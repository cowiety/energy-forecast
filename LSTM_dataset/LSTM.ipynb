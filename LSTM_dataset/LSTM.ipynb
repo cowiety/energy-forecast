{
  "nbformat": 4,
  "nbformat_minor": 0,
  "metadata": {
    "colab": {
      "name": "LSTM.ipynb",
      "provenance": [],
      "collapsed_sections": [],
      "include_colab_link": true
    },
    "kernelspec": {
      "name": "python3",
      "display_name": "Python 3"
    },
    "language_info": {
      "name": "python"
    }
  },
  "cells": [
    {
      "cell_type": "markdown",
      "metadata": {
        "id": "view-in-github",
        "colab_type": "text"
      },
      "source": [
        "<a href=\"https://colab.research.google.com/github/cowiety/energy-forecast/blob/main/LSTM_dataset/LSTM.ipynb\" target=\"_parent\"><img src=\"https://colab.research.google.com/assets/colab-badge.svg\" alt=\"Open In Colab\"/></a>"
      ]
    },
    {
      "cell_type": "markdown",
      "source": [
        "# LSTM Model"
      ],
      "metadata": {
        "id": "kODWDSgy-s1z"
      }
    },
    {
      "cell_type": "markdown",
      "source": [
        "import statements"
      ],
      "metadata": {
        "id": "Iw-beoQh_BIz"
      }
    },
    {
      "cell_type": "code",
      "execution_count": 111,
      "metadata": {
        "id": "YXJLn3fh-r39"
      },
      "outputs": [],
      "source": [
        "import numpy as np\n",
        "import tensorflow as tf\n",
        "from tensorflow.keras.models import Sequential\n",
        "from tensorflow.keras.layers import Dense, Dropout, LSTM, Input, Reshape\n",
        "from sklearn.model_selection import train_test_split\n",
        "import pandas as pd"
      ]
    },
    {
      "cell_type": "markdown",
      "source": [
        "open data files and convert to numpy arrays"
      ],
      "metadata": {
        "id": "xQ1g84rD_C5n"
      }
    },
    {
      "cell_type": "code",
      "source": [
        "# open uploaded csv file\n",
        "demand_file = open('Demand Data (2021-12-03).csv')\n",
        "# generate numpy array from file\n",
        "demand = np.genfromtxt(demand_file, delimiter=',', skip_header=1, usecols=(1))\n",
        "\n",
        "weather_file = open('Historical Weather Data (2021-12-03).csv')\n",
        "weather = np.genfromtxt(weather_file, delimiter=',', skip_header=1, usecols=(1,2,3,4))\n",
        "\n",
        "holiday_file = open('isHoliday (2021-12-03).csv')\n",
        "holiday = np.genfromtxt(holiday_file, delimiter=',', skip_header=1, usecols=(1))"
      ],
      "metadata": {
        "id": "YtOrH42yJZkb"
      },
      "execution_count": 80,
      "outputs": []
    },
    {
      "cell_type": "markdown",
      "source": [
        "function for normalizing the weather data"
      ],
      "metadata": {
        "id": "5X8AmVQxUE-9"
      }
    },
    {
      "cell_type": "code",
      "source": [
        "def normalize(data):\n",
        "  data_mean = data[:].mean(axis=0)\n",
        "  data_std = data[:].std(axis=0)\n",
        "  return (data-data_mean) / data_std"
      ],
      "metadata": {
        "id": "zpudWzWlIB5X"
      },
      "execution_count": 75,
      "outputs": []
    },
    {
      "cell_type": "markdown",
      "source": [
        "split the 2D weather array into 4 x 1D arrays"
      ],
      "metadata": {
        "id": "F7cwV4im_IAy"
      }
    },
    {
      "cell_type": "code",
      "source": [
        "# apparently there's an empty row at the bottom that drove me insane for 2 hours\n",
        "weather = weather[:-1]\n",
        "\n",
        "#normalize weather and demand data\n",
        "weather = normalize(weather)\n",
        "demand = demand / 1000\n",
        "\n",
        "# splitting weather array into a dictionary called weather_comp\n",
        "weather_comp = np.split(weather, 4, axis=1)\n",
        "# putting each component into its own variable\n",
        "clouds = weather_comp[0]\n",
        "temp = weather_comp[1]\n",
        "humidity = weather_comp[2]\n",
        "wind = weather_comp[3]"
      ],
      "metadata": {
        "id": "ipXRrgI7Oi1i"
      },
      "execution_count": 81,
      "outputs": []
    },
    {
      "cell_type": "markdown",
      "source": [
        "combine all the features into one array"
      ],
      "metadata": {
        "id": "QFjK-pfw_2_I"
      }
    },
    {
      "cell_type": "code",
      "source": [
        "data = np.column_stack((demand, holiday, clouds, temp, humidity, wind))\n",
        "np.savetxt(\"lstm_full.csv\", data, delimiter=\",\")\n",
        "print(data)"
      ],
      "metadata": {
        "colab": {
          "base_uri": "https://localhost:8080/"
        },
        "id": "M_1Ys5wERfSp",
        "outputId": "31b1aaa1-4985-474b-f439-bd38b921fc22"
      },
      "execution_count": 89,
      "outputs": [
        {
          "output_type": "stream",
          "name": "stdout",
          "text": [
            "[[19.436       0.          0.3910058  -0.89400393  1.32692069 -0.18638073]\n",
            " [19.734       0.          0.41204612 -0.82034213  1.30610063  0.12258661]\n",
            " [19.994       0.          1.15273137 -0.76485661  1.23228405 -0.26300855]\n",
            " ...\n",
            " [19.936       0.          0.47385208 -0.89878717 -0.74940707 -0.99686737]\n",
            " [19.384       0.          0.57017733 -0.92844322 -0.64341404 -0.99686737]\n",
            " [18.206       0.          0.57017733 -0.97531892 -0.46928264 -0.99686737]]\n"
          ]
        }
      ]
    },
    {
      "cell_type": "markdown",
      "source": [
        "reshape into a 3D array to prepare the data for LSTM model"
      ],
      "metadata": {
        "id": "OIJ7qQhW_68Q"
      }
    },
    {
      "cell_type": "code",
      "source": [
        "y = data[:, 0]\n",
        "x = data[:, 1:]\n",
        "x_train, x_test, y_train, y_test = train_test_split(x, y, test_size=0.1, shuffle=False)\n",
        "#print(X_train.shape)"
      ],
      "metadata": {
        "id": "qIHGeVQijKU9"
      },
      "execution_count": 105,
      "outputs": []
    },
    {
      "cell_type": "code",
      "source": [
        "x_train = np.array(x_train)\n",
        "x_test = np.array(x_test)\n",
        "y_train = np.array(y_train)\n",
        "y_test = np.array(y_test)\n",
        "\n",
        "x_len = x_train.shape[1]\n",
        "n_comps = int(x_len / 5)\n",
        "input_shape = (x_len, 1)\n",
        "units = 32"
      ],
      "metadata": {
        "id": "gliGOuiudQft"
      },
      "execution_count": 123,
      "outputs": []
    },
    {
      "cell_type": "code",
      "source": [
        "print(n_comps)"
      ],
      "metadata": {
        "colab": {
          "base_uri": "https://localhost:8080/"
        },
        "id": "QJGS_sP0fY5g",
        "outputId": "7390a81b-fac2-454a-9239-f2b4937e4d4e"
      },
      "execution_count": 125,
      "outputs": [
        {
          "output_type": "stream",
          "name": "stdout",
          "text": [
            "1\n"
          ]
        }
      ]
    },
    {
      "cell_type": "markdown",
      "source": [
        "creating a RNN with one hidden LSTM layer and one Dense output layer"
      ],
      "metadata": {
        "id": "4z4NPR3lAR7q"
      }
    },
    {
      "cell_type": "code",
      "source": [
        "model = Sequential()\n",
        "model.add(Reshape((5, n_comps), input_shape=input_shape))\n",
        "model.add(LSTM(units, input_shape=input_shape))\n",
        "model.add(Dense(1, activation='softmax'))\n",
        "model.summary()"
      ],
      "metadata": {
        "colab": {
          "base_uri": "https://localhost:8080/"
        },
        "id": "OX4VRGhleW7s",
        "outputId": "f8fbbef0-3647-4c15-be2d-2593ca046be2"
      },
      "execution_count": 132,
      "outputs": [
        {
          "output_type": "stream",
          "name": "stdout",
          "text": [
            "Model: \"sequential_27\"\n",
            "_________________________________________________________________\n",
            " Layer (type)                Output Shape              Param #   \n",
            "=================================================================\n",
            " reshape_10 (Reshape)        (None, 5, 1)              0         \n",
            "                                                                 \n",
            " lstm_22 (LSTM)              (None, 32)                4352      \n",
            "                                                                 \n",
            " dense_21 (Dense)            (None, 1)                 33        \n",
            "                                                                 \n",
            "=================================================================\n",
            "Total params: 4,385\n",
            "Trainable params: 4,385\n",
            "Non-trainable params: 0\n",
            "_________________________________________________________________\n"
          ]
        }
      ]
    },
    {
      "cell_type": "code",
      "source": [
        "opt = tf.keras.optimizers.Adam(learning_rate=1e-3, decay=1e-5)\n",
        "model.compile(optimizer=opt, loss = 'mse', metrics=['accuracy'])\n",
        "history = model.fit(\n",
        "    np.array(x_train),\n",
        "    np.array(y_train),\n",
        "    batch_size = 128, \n",
        "    epochs = 25,\n",
        "    validation_split = 0.10\n",
        ")"
      ],
      "metadata": {
        "colab": {
          "base_uri": "https://localhost:8080/"
        },
        "id": "VxwFRDXJjApH",
        "outputId": "b0dc329b-fad3-455d-f0a1-02837360de55"
      },
      "execution_count": 133,
      "outputs": [
        {
          "output_type": "stream",
          "name": "stdout",
          "text": [
            "Epoch 1/25\n",
            "158/158 [==============================] - 6s 14ms/step - loss: 270.7181 - accuracy: 0.0000e+00 - val_loss: 284.4273 - val_accuracy: 0.0000e+00\n",
            "Epoch 2/25\n",
            "158/158 [==============================] - 1s 6ms/step - loss: 270.7182 - accuracy: 0.0000e+00 - val_loss: 284.4273 - val_accuracy: 0.0000e+00\n",
            "Epoch 3/25\n",
            "158/158 [==============================] - 1s 6ms/step - loss: 270.7181 - accuracy: 0.0000e+00 - val_loss: 284.4273 - val_accuracy: 0.0000e+00\n",
            "Epoch 4/25\n",
            "158/158 [==============================] - 1s 6ms/step - loss: 270.7182 - accuracy: 0.0000e+00 - val_loss: 284.4273 - val_accuracy: 0.0000e+00\n",
            "Epoch 5/25\n",
            "158/158 [==============================] - 1s 6ms/step - loss: 270.7181 - accuracy: 0.0000e+00 - val_loss: 284.4273 - val_accuracy: 0.0000e+00\n",
            "Epoch 6/25\n",
            "158/158 [==============================] - 1s 6ms/step - loss: 270.7182 - accuracy: 0.0000e+00 - val_loss: 284.4273 - val_accuracy: 0.0000e+00\n",
            "Epoch 7/25\n",
            "158/158 [==============================] - 1s 6ms/step - loss: 270.7182 - accuracy: 0.0000e+00 - val_loss: 284.4273 - val_accuracy: 0.0000e+00\n",
            "Epoch 8/25\n",
            "158/158 [==============================] - 1s 6ms/step - loss: 270.7181 - accuracy: 0.0000e+00 - val_loss: 284.4273 - val_accuracy: 0.0000e+00\n",
            "Epoch 9/25\n",
            "158/158 [==============================] - 1s 6ms/step - loss: 270.7183 - accuracy: 0.0000e+00 - val_loss: 284.4273 - val_accuracy: 0.0000e+00\n",
            "Epoch 10/25\n",
            "158/158 [==============================] - 1s 5ms/step - loss: 270.7183 - accuracy: 0.0000e+00 - val_loss: 284.4273 - val_accuracy: 0.0000e+00\n",
            "Epoch 11/25\n",
            "158/158 [==============================] - 1s 6ms/step - loss: 270.7181 - accuracy: 0.0000e+00 - val_loss: 284.4273 - val_accuracy: 0.0000e+00\n",
            "Epoch 12/25\n",
            "158/158 [==============================] - 1s 6ms/step - loss: 270.7180 - accuracy: 0.0000e+00 - val_loss: 284.4273 - val_accuracy: 0.0000e+00\n",
            "Epoch 13/25\n",
            "158/158 [==============================] - 1s 6ms/step - loss: 270.7183 - accuracy: 0.0000e+00 - val_loss: 284.4273 - val_accuracy: 0.0000e+00\n",
            "Epoch 14/25\n",
            "158/158 [==============================] - 1s 6ms/step - loss: 270.7181 - accuracy: 0.0000e+00 - val_loss: 284.4273 - val_accuracy: 0.0000e+00\n",
            "Epoch 15/25\n",
            "158/158 [==============================] - 1s 5ms/step - loss: 270.7181 - accuracy: 0.0000e+00 - val_loss: 284.4273 - val_accuracy: 0.0000e+00\n",
            "Epoch 16/25\n",
            "158/158 [==============================] - 1s 6ms/step - loss: 270.7182 - accuracy: 0.0000e+00 - val_loss: 284.4273 - val_accuracy: 0.0000e+00\n",
            "Epoch 17/25\n",
            "158/158 [==============================] - 1s 5ms/step - loss: 270.7181 - accuracy: 0.0000e+00 - val_loss: 284.4273 - val_accuracy: 0.0000e+00\n",
            "Epoch 18/25\n",
            "158/158 [==============================] - 1s 5ms/step - loss: 270.7182 - accuracy: 0.0000e+00 - val_loss: 284.4273 - val_accuracy: 0.0000e+00\n",
            "Epoch 19/25\n",
            "158/158 [==============================] - 1s 6ms/step - loss: 270.7181 - accuracy: 0.0000e+00 - val_loss: 284.4273 - val_accuracy: 0.0000e+00\n",
            "Epoch 20/25\n",
            "158/158 [==============================] - 1s 6ms/step - loss: 270.7181 - accuracy: 0.0000e+00 - val_loss: 284.4273 - val_accuracy: 0.0000e+00\n",
            "Epoch 21/25\n",
            "158/158 [==============================] - 1s 6ms/step - loss: 270.7181 - accuracy: 0.0000e+00 - val_loss: 284.4273 - val_accuracy: 0.0000e+00\n",
            "Epoch 22/25\n",
            "158/158 [==============================] - 1s 5ms/step - loss: 270.7181 - accuracy: 0.0000e+00 - val_loss: 284.4273 - val_accuracy: 0.0000e+00\n",
            "Epoch 23/25\n",
            "158/158 [==============================] - 1s 6ms/step - loss: 270.7182 - accuracy: 0.0000e+00 - val_loss: 284.4273 - val_accuracy: 0.0000e+00\n",
            "Epoch 24/25\n",
            "158/158 [==============================] - 1s 5ms/step - loss: 270.7181 - accuracy: 0.0000e+00 - val_loss: 284.4273 - val_accuracy: 0.0000e+00\n",
            "Epoch 25/25\n",
            "158/158 [==============================] - 1s 6ms/step - loss: 270.7182 - accuracy: 0.0000e+00 - val_loss: 284.4273 - val_accuracy: 0.0000e+00\n"
          ]
        }
      ]
    }
  ]
}